{
 "cells": [
  {
   "cell_type": "markdown",
   "source": [
    "\n",
    "# IMPORTANT:\n",
    "\n",
    "\n",
    "\n",
    "## Please mark your attendance [here](https://forms.office.com/e/YwtfGncmsc) to receive the certificate\n",
    "(You will receive the certificate in your email in next 7 business days post the event)"
   ],
   "metadata": {
    "collapsed": false
   }
  },
  {
   "cell_type": "markdown",
   "id": "ac02d774",
   "metadata": {},
   "source": [
    "# Beyond Chatbots: Integrate LLMs for Innovative Product Features!\n",
    "\n",
    "There is an easy and complaint way to get access and use LLM within SAP:\n",
    "\n",
    "1. We already set up BTP LLM Proxy service account in BTP to get you started directly\n"
   ]
  },
  {
   "cell_type": "markdown",
   "id": "768a5301",
   "metadata": {},
   "source": [
    "## `Hello World`  of LLMs"
   ]
  },
  {
   "cell_type": "markdown",
   "id": "f7dede54",
   "metadata": {},
   "source": [
    "Let us run a simple completion.\n",
    "\n",
    "#### Helper Functions to run a completion"
   ]
  },
  {
   "cell_type": "code",
   "execution_count": null,
   "id": "dc0ce7e8",
   "metadata": {},
   "outputs": [],
   "source": [
    "from llm_commons.btp_llm.openai import BTPChatCompletion\n",
    "\n",
    "def get_completion(prompt, model=\"gpt-35-turbo\"):\n",
    "    messages = [{\"role\": \"user\", \"content\": prompt}]\n",
    "    response = BTPChatCompletion.create(\n",
    "        deployment_id=model,\n",
    "        messages=messages,\n",
    "        temperature=0\n",
    "    )\n",
    "    return response.choices[0].message[\"content\"]"
   ]
  },
  {
   "cell_type": "code",
   "execution_count": null,
   "id": "edd5aabb",
   "metadata": {},
   "outputs": [],
   "source": [
    "prompt = \"\"\"\n",
    "When was Hoffenheim promoted to the first Bundesliga and\n",
    "what was Justin Biebers biggest song in this year?\n",
    "\"\"\"\n",
    "print(f'Prompt\\n---\\n{prompt}\\n\\nResponse\\n---\\n{get_completion(prompt)}')"
   ]
  },
  {
   "cell_type": "markdown",
   "id": "acadda0e",
   "metadata": {},
   "source": [
    "## Now something more useful"
   ]
  },
  {
   "cell_type": "markdown",
   "id": "69034336",
   "metadata": {},
   "source": [
    "Hypothetical scenarino for master data management.\n",
    "\n",
    "**The goal is to reconcile master data (e.g. tax IDs) with invoice documents**.\n",
    "\n",
    "To do this we want to:\n",
    "1. Extract text from document using Business OCR service.\n",
    "2. The large language model retrieves company names and tax IDs.\n",
    "3. Construct an OData request to match the extracted data with the data from the service.\n",
    "\n",
    "Flow of such an application could look like this:\n",
    "\n",
    "![Example Document](./flow_scaled.png)"
   ]
  },
  {
   "cell_type": "markdown",
   "id": "0721b5a2",
   "metadata": {},
   "source": [
    "### Example Document\n",
    "\n",
    "![Example Document](./example_document_scaled.png)"
   ]
  },
  {
   "cell_type": "markdown",
   "id": "807b052d",
   "metadata": {},
   "source": [
    "Business OCR output for the document."
   ]
  },
  {
   "cell_type": "code",
   "execution_count": null,
   "id": "ed0be14b",
   "metadata": {},
   "outputs": [],
   "source": [
    "document = \"\"\"\n",
    "TAX        INVOICE                                                   Invoice Date          Landscape  Heroes\n",
    "                                                                     1 Dec 2022             Pty Ltd.\n",
    "                                                                     Invoice Number         P.O. Box 3141\n",
    "               Oceanside Resort Ltd.                                 INV-20220434          Coomera  QLD 4209\n",
    "               Garden St                                             Purchase order         admin@landscapers.com\n",
    "               ALBERTON   QLD  4207\n",
    "                                                                     OBR17854\n",
    "               AUSTRALIA\n",
    "               ABN: 42 486 558 106                                   ABN\n",
    "                                                                     32 100 478 897\n",
    "\n",
    "\n",
    "\n",
    "\n",
    "\n",
    "\n",
    " Description                                                 Quantity       Unit Price       GST      Amount  AUD\n",
    "\n",
    " DELIVERY:\n",
    " Garden St\n",
    " Alberton\n",
    " 4207\n",
    " Qld\n",
    "\n",
    " Vibrant flower bouquet                                        4.00             63.00        10%           252.00\n",
    "\n",
    " Royal Orchid Ensemble bouquet                                 3.00             56.00        10%            168.00\n",
    "\n",
    " Delivery                                                       1.00            86.00        10%             86.00\n",
    "\n",
    "                                                                                          Subtotal          506.00\n",
    "                                                                                 TOTAL  GST  10%             50.60\n",
    "\n",
    "                                                                                      TOTAL  AUD            556.60\n",
    "\n",
    "\n",
    "\n",
    " Due Date:  31 Dec  2022\n",
    "Bank Account:\n",
    "BSB:  132-408\n",
    "Account: 340-433\n",
    "Reference: Invoice number\n",
    "Please forward remittance to : admin@landscapers.com\n",
    "Terms:\n",
    "* Currency is in Australian Dollars AUD\n",
    "* All goods remain the property of Landscaper Heroes until paid in FULL.\n",
    "* Payment expected within 30 days after the invoice date.\n",
    "* All debt collection measures will be in addition to the final invoice amount due.```\n",
    "\"\"\""
   ]
  },
  {
   "cell_type": "markdown",
   "id": "45e09232",
   "metadata": {},
   "source": [
    "### Engineer the prompt for the task"
   ]
  },
  {
   "cell_type": "markdown",
   "id": "b8086f59",
   "metadata": {},
   "source": [
    "We define a simple prompt template to test multiple variants of the prompt."
   ]
  },
  {
   "cell_type": "code",
   "execution_count": null,
   "id": "c0eb4b32",
   "metadata": {},
   "outputs": [],
   "source": [
    "prompt_template = \"\"\"{task}\n",
    "    \n",
    "```\n",
    "{document}\n",
    "```\n",
    "\"\"\""
   ]
  },
  {
   "cell_type": "markdown",
   "id": "87c1ef60",
   "metadata": {},
   "source": [
    "#### Helper functions to test a prompt"
   ]
  },
  {
   "cell_type": "code",
   "execution_count": null,
   "id": "f007b8ab",
   "metadata": {},
   "outputs": [],
   "source": [
    "from textwrap import indent\n",
    "\n",
    "def print_extraction(prompt, model=\"gpt-4\"):\n",
    "    response = get_completion(prompt, model=model)\n",
    "    model_prefix = f'{model}: '\n",
    "    print(f'{model_prefix}\\n{indent(response, \" \"*10)}\\n')"
   ]
  },
  {
   "cell_type": "markdown",
   "id": "d4f00711",
   "metadata": {},
   "source": [
    "#### First prompt"
   ]
  },
  {
   "cell_type": "code",
   "execution_count": null,
   "id": "34bf438b",
   "metadata": {},
   "outputs": [],
   "source": [
    "task = \"Please extract the tax IDs from the following invoice!\"\n",
    "\n",
    "prompt = prompt_template.format(task=task, document=document)\n",
    "print(f'Prompt\\n---\\n{prompt}\\n\\nResponses\\n---\\n')\n",
    "for model in ('gpt-35-turbo', 'gpt-4'):\n",
    "    print_extraction(prompt, model=model)"
   ]
  },
  {
   "cell_type": "markdown",
   "id": "60aa8a4b",
   "metadata": {},
   "source": [
    "We want to **get rid of the whitespaces and return the company names**.\n",
    "#### Second prompt"
   ]
  },
  {
   "cell_type": "code",
   "execution_count": null,
   "id": "36920f03",
   "metadata": {},
   "outputs": [],
   "source": [
    "task += \" Remove white spaces from the tax IDs and add the names of the company to the tax IDs.\"\n",
    "\n",
    "\n",
    "prompt = prompt_template.format(task=task, document=document)\n",
    "print(f'Prompt\\n---\\n{prompt}\\n\\nResponses\\n---\\n')\n",
    "for model in ('gpt-35-turbo', 'gpt-4'):\n",
    "    print_extraction(prompt, model=model)"
   ]
  },
  {
   "cell_type": "markdown",
   "id": "f74b6ce1",
   "metadata": {},
   "source": [
    "We want **structured output** so it can be used more easily for the request creation.\n",
    "#### Third prompt"
   ]
  },
  {
   "cell_type": "code",
   "execution_count": null,
   "id": "19fa5808",
   "metadata": {},
   "outputs": [],
   "source": [
    "task += \" Yield the result in a json format with the company name as key and the tax ID as value.\"\n",
    "\n",
    "\n",
    "prompt = prompt_template.format(task=task, document=document)\n",
    "print(f'Prompt\\n---\\n{prompt}\\n\\nResponses\\n---\\n')\n",
    "for model in ('gpt-35-turbo', 'gpt-4'):\n",
    "    print_extraction(prompt, model=model)"
   ]
  },
  {
   "cell_type": "markdown",
   "id": "81987fbd",
   "metadata": {},
   "source": [
    "### Sketching the next step\n",
    "\n",
    "Use this prompt to create a function that returns the information needed to do the verification against a database."
   ]
  },
  {
   "cell_type": "code",
   "execution_count": null,
   "id": "0cf50d5c",
   "metadata": {},
   "outputs": [],
   "source": [
    "import json\n",
    "\n",
    "def create_odata_request(document, model=\"gpt-35-turbo\"):\n",
    "    prompt_template = f\"\"\"{task}\n",
    "    \n",
    "    ```\n",
    "    {document}\n",
    "    ```\n",
    "    \"\"\" \n",
    "    \n",
    "    response = get_completion(prompt, model=model)\n",
    "    entries = json.loads(response)\n",
    "    requests = []\n",
    "    for company, tax_id in entries.items():\n",
    "        # here could go the rest of request creation\n",
    "        requests.append({\n",
    "            'company': company,\n",
    "            'tax_id': tax_id\n",
    "        })\n",
    "    return requests"
   ]
  },
  {
   "cell_type": "code",
   "execution_count": null,
   "id": "7cd288c8",
   "metadata": {},
   "outputs": [],
   "source": [
    "create_odata_request(document)"
   ]
  },
  {
   "cell_type": "markdown",
   "id": "e9da6c8b",
   "metadata": {},
   "source": [
    "## Conclusion\n",
    "- SAP LLM content packages enable developers to use LLMs in a few simple steps. \n",
    "- LLMs make it easy to integrate complex logics in our application. \n",
    "- Prompt Engineering: test and evaluate different models and prompts in an iterative process.\n",
    "\n"
   ]
  },
  {
   "cell_type": "markdown",
   "source": [
    "# Congratulations\n",
    "\n",
    "\n",
    "\n",
    "Congratulations on completing the hands-on activity! 🎉 We're really proud of your progress.\n",
    "\n",
    "\n",
    "\n",
    "Please take a moment to fill out this [dev track survey]( https://employeeexperience.surveys.sap.com/jfe/form/SV_5cJMcoC8gpmI1uK?LINK=SV_5cJMcoC8gpmI1uK&title=AI)\n",
    "Remember, your feedback remains completely anonymous and will only be used to enhance the learning experience.\n",
    "\n",
    "\n",
    "\n",
    "Thank you for your time and keep up the good work! 🙌\n",
    "Your learning partner, SAP Dev. Learning Team ailearning@sap.com"
   ],
   "metadata": {
    "collapsed": false
   }
  },
  {
   "cell_type": "code",
   "execution_count": null,
   "outputs": [],
   "source": [],
   "metadata": {
    "collapsed": false
   }
  }
 ],
 "metadata": {
  "kernelspec": {
   "display_name": "Python 3 (ipykernel)",
   "language": "python",
   "name": "python3"
  },
  "language_info": {
   "codemirror_mode": {
    "name": "ipython",
    "version": 3
   },
   "file_extension": ".py",
   "mimetype": "text/x-python",
   "name": "python",
   "nbconvert_exporter": "python",
   "pygments_lexer": "ipython3",
   "version": "3.9.2"
  }
 },
 "nbformat": 4,
 "nbformat_minor": 5
}
